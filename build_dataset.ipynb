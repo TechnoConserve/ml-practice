{
 "cells": [
  {
   "cell_type": "code",
   "execution_count": 1,
   "metadata": {},
   "outputs": [],
   "source": [
    "from newspaper import Article\n",
    "\n",
    "# Create the article objects\n",
    "conservation_article = Article('http://www.sltrib.com/news/environment/2017/11/24/restoring-utahs-damaged-landscapes-ephraim-center-provides-vital-seed-stocks-to-heal-public-lands/')\n",
    "regular_article = Article('http://www.sltrib.com/news/nation-world/2017/11/26/guns-were-black-friday-must-haves-going-by-the-fbis-record-203086-background-check-requests/')"
   ]
  },
  {
   "cell_type": "code",
   "execution_count": 2,
   "metadata": {},
   "outputs": [],
   "source": [
    "# Download and parse the articles\n",
    "conservation_article.download()\n",
    "regular_article.download()\n",
    "conservation_article.parse()\n",
    "regular_article.parse()"
   ]
  },
  {
   "cell_type": "code",
   "execution_count": 5,
   "metadata": {
    "scrolled": true
   },
   "outputs": [
    {
     "name": "stdout",
     "output_type": "stream",
     "text": [
      "Conservation article summary: (Rick Egan | The Salt Lake Tribune) Tana Newton and Noah Arnoldsen fill bags of seeds at the Utah DWR seed warehouse in Ephraim.\n",
      "The warehouse supplies seeds for various rehabilitation projects such as the reseeding of the Brian Head burn, Wednesday, November 8, 2017.\n",
      "These totals don’t include 52,000 pounds of sterile triticale seed applied earlier this year in emergency stabilization efforts at Brian Head and elsewhere.\n",
      "“In the last 10 years, we have gotten more involved with wildlife habitat restoration, but everything done isn’t always for wildlife,” Bezzant said.\n",
      "That concern is not as acute at higher elevations, such as the Brian Head burn, because the undergrowth bounces back more quickly in its moist soils.\n",
      "\n",
      "Regular article summary: On Friday, the FBI received 203,086 requests for instant gun background checks, according to USA Today — nearly a 10 percent increase from the year before and a new record for background checks in a single day.\n",
      "According to the FBI, the previous two records for background checks were also set on the day after the federal holiday in which Americans give thanks for the year's blessings.\n",
      "It was the largest mass shooting in Texas history.\n",
      "But this year, one mass shooting was different.\n",
      "Meanwhile, it appears the FBI will have to figure out how to deal with the onslaught of background checks.\n"
     ]
    }
   ],
   "source": [
    "# Use newspapers built-in natural language processing\n",
    "conservation_article.nlp()\n",
    "regular_article.nlp()\n",
    "\n",
    "# Now we have should have access to some interesting info\n",
    "print('Conservation article summary:', conservation_article.summary)\n",
    "print('\\nRegular article summary:', regular_article.summary)"
   ]
  },
  {
   "cell_type": "code",
   "execution_count": null,
   "metadata": {},
   "outputs": [],
   "source": []
  }
 ],
 "metadata": {
  "kernelspec": {
   "display_name": "Python 3",
   "language": "python",
   "name": "python3"
  },
  "language_info": {
   "codemirror_mode": {
    "name": "ipython",
    "version": 3
   },
   "file_extension": ".py",
   "mimetype": "text/x-python",
   "name": "python",
   "nbconvert_exporter": "python",
   "pygments_lexer": "ipython3",
   "version": "3.5.3"
  }
 },
 "nbformat": 4,
 "nbformat_minor": 1
}
