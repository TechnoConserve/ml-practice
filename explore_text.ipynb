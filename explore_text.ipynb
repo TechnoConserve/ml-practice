{
 "cells": [
  {
   "cell_type": "code",
   "execution_count": 1,
   "metadata": {
    "collapsed": true
   },
   "outputs": [
    {
     "name": "stdout",
     "output_type": "stream",
     "text": [
      "*** Introductory Examples for the NLTK Book ***\nLoading text1, ..., text9 and sent1, ..., sent9\nType the name of the text or sentence to view it.\nType: 'texts()' or 'sents()' to list the materials.\n"
     ]
    },
    {
     "name": "stdout",
     "output_type": "stream",
     "text": [
      "text1: Moby Dick by Herman Melville 1851\n"
     ]
    },
    {
     "name": "stdout",
     "output_type": "stream",
     "text": [
      "text2: Sense and Sensibility by Jane Austen 1811\ntext3: The Book of Genesis\n"
     ]
    },
    {
     "name": "stdout",
     "output_type": "stream",
     "text": [
      "text4: Inaugural Address Corpus\n"
     ]
    },
    {
     "name": "stdout",
     "output_type": "stream",
     "text": [
      "text5: Chat Corpus\ntext6: Monty Python and the Holy Grail\n"
     ]
    },
    {
     "name": "stdout",
     "output_type": "stream",
     "text": [
      "text7: Wall Street Journal\ntext8: Personals Corpus\ntext9: The Man Who Was Thursday by G . K . Chesterton 1908\n"
     ]
    }
   ],
   "source": [
    "from nltk.book import text7"
   ]
  },
  {
   "cell_type": "code",
   "execution_count": 3,
   "metadata": {},
   "outputs": [
    {
     "name": "stdout",
     "output_type": "stream",
     "text": [
      "<class 'nltk.text.Text'>\n100676\n"
     ]
    }
   ],
   "source": [
    "# What is text7?\n",
    "print(type(text7))\n",
    "# How many words and punctuation marks are there?\n",
    "print(len(text7))"
   ]
  },
  {
   "cell_type": "code",
   "execution_count": 4,
   "metadata": {},
   "outputs": [
    {
     "name": "stdout",
     "output_type": "stream",
     "text": [
      "['*EXP*-1', '*EXP*-2', '*ICH*-1', '*ICH*-2', '*ICH*-3', '*RNR*-1', '10,000', '15,000', '30-day', '30-year', 'According', 'Although', 'America', 'American', 'Americans', 'Analysts', 'Angeles', 'Article', 'Artist', 'Association', 'August', 'Average', 'Bernstein', 'Boston', 'Brazil', 'Britain', 'British', 'Business', 'Calif.', 'California', 'Campbell', 'Capital', 'Carnival', 'Carolina', 'Chairman', 'Charles', 'Chicago', 'Chinese', 'Coleman', 'Columbia', 'Commerce', 'Commission', 'Committee', 'Commonwealth', 'Computer', 'Congress', 'Constitution', 'Containers', 'Courter', 'Cray-3', 'Dealers', 'December', 'Department', 'Despite', 'Dingell', 'Dinkins', 'Drexel', 'Edison', 'England', 'Europe', 'Exchange', 'Express', 'Federal', 'Finance', 'Financial', 'France', 'Francisco', 'Fujitsu', 'Futures', 'General', 'Georgia', 'Georgia-Pacific', 'Germany', 'Greenville', 'Hampshire', 'Health', 'Hearst', 'Herald', 'Heritage', 'However', 'Industries', 'Institute', 'International', 'Investment', 'January', 'Japanese', 'Johnson', 'Journal', 'Justice', 'Learning', 'London', 'Management', 'Marine', 'Market', 'Martin', 'Materials', 'McAlpine', 'McGovern', 'Meanwhile', 'Michael', 'Ministry', 'Mitsubishi', 'Mitsui', 'Monday', 'Moreover', 'National', 'Nekoosa', 'Newhouse', 'Newsweek', 'Northeast', 'November', 'October', 'Orleans', 'Pacific', 'Phelan', 'Philadelphia', 'Poland', 'President', 'Program', 'Random', 'Ratners', 'Reagan', 'Reliance', 'Report', 'Research', 'Reuters', 'Richard', 'Robert', 'Savings', 'School', 'Scoring', 'Section', 'Securities', 'Senate', 'September', 'Service', 'Shearson', 'Simmons', 'Southeast', 'Soviet', 'Soviets', 'Spiegel', 'Standard', 'Steinberg', 'Street', 'Supreme', 'Taiwan', 'Telerate', 'Temple', 'Thomas', 'Thursday', 'Transportation', 'Treasury', 'Tuesday', 'United', 'University', 'Upjohn', 'Valley', 'Waertsilae', 'Washington', 'Wednesday', 'Wedtech', 'Western', 'Wilder', 'William', 'Williams', 'Yeargin', 'ability', 'abortion', 'access', 'according', 'account', 'accounts', 'acquire', 'acquired', 'acquisition', 'acquisitions', 'across', 'action', 'activities', 'activity', 'actual', 'addition', 'additional', 'administration', 'advanced', 'advantage', 'advertisers', 'advertising', 'against', 'agency', 'agreed', 'agreement', 'airline', 'alleged', 'allowed', 'almost', 'already', 'although', 'always', 'amount', 'analyst', 'analysts', 'announced', 'announcement', 'annual', 'another', 'answers', 'antitrust', 'anything', 'apparently', 'appeal', 'appears', 'approach', 'appropriations', 'approval', 'approve', 'approved', 'arbitrage', 'around', 'asbestos', 'assets', 'association', 'attempt', 'attention', 'authority', 'available', 'average', 'banking', 'bankruptcy', 'barred', 'battle', 'became', 'because', 'become', 'before', 'beginning', 'believe', 'believes', 'benchmark', 'benefits', 'better', 'between', 'billion', 'boosted', 'bottle', 'bought', 'budget', 'building', 'business', 'businesses', 'buy-out', 'buyers', 'buying', 'called', 'campaign', 'candidates', 'capacity', 'capital', 'carrier', 'caused', 'ceiling', 'certain', 'chairman', 'change', 'changed', 'changes', 'charge', 'charges', 'cheating', 'church', 'circulation', 'client', 'clients', 'closed', 'closely', 'closing', 'coming', 'comment', 'commercial', 'commission', 'commitments', 'committee', 'common', 'companies', 'company', 'compared', 'competition', 'completed', 'composite', 'compromise', 'computer', 'computers', 'concern', 'concerns', 'conditions', 'conference', 'congressional', 'consented', 'consider', 'considered', 'construction', 'consumer', 'consumers', 'continue', 'continued', 'continues', 'continuing', 'contract', 'contracts', 'control', 'convertible', 'corporate', 'countries', 'country', 'course', 'created', 'credit', 'criminal', 'critics', 'current', 'current-carrying', 'currently', 'customer', 'customers', 'dealers', 'decided', 'decision', 'decline', 'declined', 'defense', 'delivery', 'demand', 'department', 'departure', 'described', 'designed', 'despite', 'development', 'difference', 'different', 'direct', 'director', 'disclosed', 'district', 'dividend', 'dividends', 'division', 'dollar', 'dollars', 'domestic', 'dropped', 'during', 'duties', 'earlier', 'earned', 'earnings', 'economic', 'economy', 'editor', 'effect', 'effort', 'efforts', 'either', 'elaborate', 'electronics', 'employees', 'ending', 'energy', 'enforcement', 'engineering', 'enough', 'equipment', 'equity', 'especially', 'essentially', 'estimated', 'estimates', 'eventually', 'evidence', 'example', 'exchange', 'executive', 'executives', 'expect', 'expected', 'expects', 'expenses', 'expensive', 'experience', 'export', 'exports', 'extend', 'factors', 'factory', 'failed', 'family', 'farmers', 'federal', 'fetal-tissue', 'fields', 'figures', 'filing', 'finance', 'financial', 'financing', 'findings', 'fiscal', 'followed', 'following', 'foreign', 'former', 'fourth', 'fourth-quarter', 'funding', 'further', 'future', 'futures', 'gained', 'general', 'generally', 'getting', 'giving', 'government', 'greater', 'groups', 'growing', 'growth', 'guilders', 'having', 'headquarters', 'health', 'helped', 'higher', 'highest', 'highly', 'himself', 'history', 'holders', 'holding', 'homeless', 'homelessness', 'however', 'important', 'imports', 'improve', 'include', 'included', 'includes', 'including', 'income', 'increase', 'increased', 'increases', 'increasing', 'indicated', 'individual', 'individuals', 'industrial', 'industry', 'information', 'initial', 'instead', 'institutional', 'institutions', 'insurance', 'interest', 'international', 'interview', 'introduced', 'introduction', 'investment', 'investments', 'investor', 'investors', 'involved', 'involving', 'issued', 'issues', 'jointly', 'jumped', 'largely', 'largest', 'latest', 'launched', 'lawyer', 'lawyers', 'leaders', 'leading', 'legislation', 'letters', 'levels', 'likely', 'limited', 'line-item', 'listed', 'little', 'long-term', 'longer', 'looking', 'losing', 'losses', 'magazine', 'makers', 'making', 'management', 'manager', 'managers', 'manufacturing', 'market', 'marketing', 'markets', 'material', 'materials', 'matter', 'mature', 'measure', 'meeting', 'member', 'members', 'military', 'million', 'minimum', 'minority', 'monthly', 'months', 'mutual', 'nation', 'national', 'nations', 'nearly', 'necessary', 'needed', 'negative', 'network', 'newspaper', 'nothing', 'number', 'offered', 'offering', 'offers', 'office', 'officer', 'official', 'officials', 'offset', 'one-time', 'opened', 'operate', 'operating', 'operations', 'opportunity', 'opposed', 'options', 'ordered', 'orders', 'organization', 'others', 'outside', 'outstanding', 'overseas', 'package', 'parent', 'particularly', 'partly', 'patent', 'paying', 'payment', 'payments', 'people', 'percentage', 'performance', 'perhaps', 'period', 'person', 'personal', 'placed', 'planned', 'plants', 'points', 'policy', 'political', 'portfolio', 'position', 'possible', 'posted', 'potential', 'practice', 'preferred', 'premium', 'prepared', 'president', 'pressure', 'pretax', 'prevent', 'previous', 'previously', 'priced', 'prices', 'principal', 'private', 'probably', 'problem', 'problems', 'process', 'produce', 'produced', 'product', 'production', 'products', 'professor', 'profit', 'profits', 'program', 'program-trading', 'programs', 'promotion', 'proposal', 'proposed', 'provide', 'provided', 'provides', 'provision', 'public', 'publicly', 'publishing', 'purchase', 'purchases', 'purchasing', 'quarter', 'question', 'questions', 'quickly', 'raised', 'raising', 'rather', 'rating', 'ratings', 'reached', 'reading', 'really', 'reason', 'receive', 'received', 'recent', 'recently', 'recession', 'record', 'reduce', 'reduced', 'reduction', 'refund', 'region', 'regulators', 'regulatory', 'rejected', 'related', 'relations', 'relatively', 'remain', 'remaining', 'remains', 'reorganization', 'report', 'reported', 'reports', 'request', 'require', 'required', 'requirements', 'research', 'researchers', 'reserves', 'restrictions', 'restructuring', 'result', 'results', 'retail', 'retirement', 'return', 'returns', 'revenue', 'review', 'rights', 'ringers', 'rising', 'roughly', 'ruling', 'rumors', 'safety', 'savings', 'saying', 'scheduled', 'school', 'schools', 'scores', 'second', 'sector', 'securities', 'seeking', 'segments', 'selling', 'senior', 'separate', 'series', 'serious', 'service', 'services', 'session', 'several', 'shareholder', 'shareholders', 'shares', 'sharply', 'short-term', 'should', 'showed', 'significant', 'similar', 'single', 'situation', 'slightly', 'slowing', 'sluggish', 'smaller', 'software', 'something', 'sometimes', 'sought', 'sources', 'special', 'speculation', 'spending', 'spinoff', 'spokesman', 'spokeswoman', 'spring', 'standards', 'statement', 'states', 'stations', 'stock-index', 'stocks', 'stores', 'strategy', 'strike', 'strong', 'student', 'students', 'subject', 'successor', 'summer', 'superconductors', 'support', 'surged', 'survey', 'suspended', 'suspension', 'system', 'takeover', 'taking', 'target', 'teacher', 'teachers', 'technology', 'telephone', 'television', 'temporarily', 'testing', 'themselves', 'things', 'third-quarter', 'though', 'thought', 'thrift', 'through', 'together', 'totaled', 'traded', 'traders', 'trades', 'trading', 'traditional', 'training', 'transaction', 'transactions', 'transplants', 'treatment', 'trucks', 'trying', 'turned', 'unchanged', 'unconstitutional', 'underlying', 'unfair', 'unless', 'usually', 'utilities', 'valued', 'victims', 'violations', 'volatility', 'volume', 'wanted', 'whether', 'widely', 'willing', 'within', 'without', 'workers', 'working', 'year-earlier', 'yesterday']\n"
     ]
    }
   ],
   "source": [
    "from nltk import FreqDist\n",
    "\n",
    "fdist = FreqDist(text7)\n",
    "# Create a list of hopefully important words\n",
    "focused_words = sorted(w for w in set(text7) if len(w) > 5 and fdist[w] > 7)\n",
    "print(focused_words)"
   ]
  },
  {
   "cell_type": "code",
   "execution_count": 5,
   "metadata": {},
   "outputs": [
    {
     "name": "stdout",
     "output_type": "stream",
     "text": [
      "million *U*; New York; billion *U*; Wall Street; program trading; Mrs.\nYeargin; vice president; Stock Exchange; Big Board; Georgia Gulf;\nchief executive; Dow Jones; S&P 500; says *T*-1; York Stock; last\nyear; Sea Containers; South Korea; American Express; San Francisco\n"
     ]
    }
   ],
   "source": [
    "text7.collocations()"
   ]
  },
  {
   "cell_type": "code",
   "execution_count": null,
   "metadata": {},
   "outputs": [],
   "source": []
  }
 ],
 "metadata": {
  "kernelspec": {
   "display_name": "Python 2",
   "language": "python",
   "name": "python2"
  },
  "language_info": {
   "codemirror_mode": {
    "name": "ipython",
    "version": 2
   },
   "file_extension": ".py",
   "mimetype": "text/x-python",
   "name": "python",
   "nbconvert_exporter": "python",
   "pygments_lexer": "ipython2",
   "version": "2.7.6"
  }
 },
 "nbformat": 4,
 "nbformat_minor": 0
}
